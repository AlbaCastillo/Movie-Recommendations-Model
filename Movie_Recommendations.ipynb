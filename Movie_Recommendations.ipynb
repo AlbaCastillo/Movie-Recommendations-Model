{
  "nbformat": 4,
  "nbformat_minor": 0,
  "metadata": {
    "colab": {
      "provenance": [],
      "authorship_tag": "ABX9TyONs0ukVFQTZS4CkdFVusSp"
    },
    "kernelspec": {
      "name": "python3",
      "display_name": "Python 3"
    },
    "language_info": {
      "name": "python"
    }
  },
  "cells": [
    {
      "cell_type": "markdown",
      "source": [
        "# Movies Recommendations\n"
      ],
      "metadata": {
        "id": "lOnuAv_kRL27"
      }
    },
    {
      "cell_type": "markdown",
      "source": [
        "### ETL"
      ],
      "metadata": {
        "id": "N4xGXNcxRnIp"
      }
    },
    {
      "cell_type": "code",
      "execution_count": 1,
      "metadata": {
        "id": "E701pY5HQ1mC"
      },
      "outputs": [],
      "source": [
        "import pandas as pd\n",
        "import numpy as np"
      ]
    },
    {
      "cell_type": "markdown",
      "source": [
        "Carga de datos"
      ],
      "metadata": {
        "id": "h2XAJN5ibAUS"
      }
    },
    {
      "cell_type": "code",
      "source": [
        "# Se extrae directamente desde un archivo en la carpeta de drive\n",
        "from google.colab import drive\n",
        "drive.mount('/content/drive')"
      ],
      "metadata": {
        "colab": {
          "base_uri": "https://localhost:8080/"
        },
        "id": "henW7g-ZUS8h",
        "outputId": "6ee2bc51-740b-43b7-fd1d-a5eca5188f61"
      },
      "execution_count": 2,
      "outputs": [
        {
          "output_type": "stream",
          "name": "stdout",
          "text": [
            "Mounted at /content/drive\n"
          ]
        }
      ]
    },
    {
      "cell_type": "code",
      "source": [
        "# Se cargan los datos a un dataframe\n",
        "movies = pd.read_csv(\"/content/drive/MyDrive/Modelo de Recomendaciones (Movies)/movies_dataset.csv\")"
      ],
      "metadata": {
        "colab": {
          "base_uri": "https://localhost:8080/"
        },
        "id": "rmfCvI8kSGh5",
        "outputId": "db6bb738-9f56-4b82-a7bb-519fb7e0bd88"
      },
      "execution_count": 3,
      "outputs": [
        {
          "output_type": "stream",
          "name": "stderr",
          "text": [
            "<ipython-input-3-ae0dddb60e7b>:2: DtypeWarning: Columns (10) have mixed types. Specify dtype option on import or set low_memory=False.\n",
            "  movies = pd.read_csv(\"/content/drive/MyDrive/Modelo de Recomendaciones (Movies)/movies_dataset.csv\")\n"
          ]
        }
      ]
    },
    {
      "cell_type": "code",
      "source": [
        "# movies = pd.read_csv(\"/movies_dataset.csv\")"
      ],
      "metadata": {
        "id": "VNC88XNXyBRF"
      },
      "execution_count": 4,
      "outputs": []
    },
    {
      "cell_type": "code",
      "source": [
        "movies.head(1)"
      ],
      "metadata": {
        "colab": {
          "base_uri": "https://localhost:8080/",
          "height": 261
        },
        "id": "GYWp0wgySHbq",
        "outputId": "612ef0bd-4186-46f6-8902-036bbeaca6fb"
      },
      "execution_count": 5,
      "outputs": [
        {
          "output_type": "execute_result",
          "data": {
            "text/plain": [
              "   adult                              belongs_to_collection    budget  \\\n",
              "0  False  {'id': 10194, 'name': 'Toy Story Collection', ...  30000000   \n",
              "\n",
              "                                              genres  \\\n",
              "0  [{'id': 16, 'name': 'Animation'}, {'id': 35, '...   \n",
              "\n",
              "                               homepage   id    imdb_id original_language  \\\n",
              "0  http://toystory.disney.com/toy-story  862  tt0114709                en   \n",
              "\n",
              "  original_title                                           overview  ...  \\\n",
              "0      Toy Story  Led by Woody, Andy's toys live happily in his ...  ...   \n",
              "\n",
              "  release_date      revenue runtime                          spoken_languages  \\\n",
              "0   1995-10-30  373554033.0    81.0  [{'iso_639_1': 'en', 'name': 'English'}]   \n",
              "\n",
              "     status  tagline      title  video vote_average vote_count  \n",
              "0  Released      NaN  Toy Story  False          7.7     5415.0  \n",
              "\n",
              "[1 rows x 24 columns]"
            ],
            "text/html": [
              "\n",
              "  <div id=\"df-1ae6b065-f7a2-4142-882b-3a772576e696\">\n",
              "    <div class=\"colab-df-container\">\n",
              "      <div>\n",
              "<style scoped>\n",
              "    .dataframe tbody tr th:only-of-type {\n",
              "        vertical-align: middle;\n",
              "    }\n",
              "\n",
              "    .dataframe tbody tr th {\n",
              "        vertical-align: top;\n",
              "    }\n",
              "\n",
              "    .dataframe thead th {\n",
              "        text-align: right;\n",
              "    }\n",
              "</style>\n",
              "<table border=\"1\" class=\"dataframe\">\n",
              "  <thead>\n",
              "    <tr style=\"text-align: right;\">\n",
              "      <th></th>\n",
              "      <th>adult</th>\n",
              "      <th>belongs_to_collection</th>\n",
              "      <th>budget</th>\n",
              "      <th>genres</th>\n",
              "      <th>homepage</th>\n",
              "      <th>id</th>\n",
              "      <th>imdb_id</th>\n",
              "      <th>original_language</th>\n",
              "      <th>original_title</th>\n",
              "      <th>overview</th>\n",
              "      <th>...</th>\n",
              "      <th>release_date</th>\n",
              "      <th>revenue</th>\n",
              "      <th>runtime</th>\n",
              "      <th>spoken_languages</th>\n",
              "      <th>status</th>\n",
              "      <th>tagline</th>\n",
              "      <th>title</th>\n",
              "      <th>video</th>\n",
              "      <th>vote_average</th>\n",
              "      <th>vote_count</th>\n",
              "    </tr>\n",
              "  </thead>\n",
              "  <tbody>\n",
              "    <tr>\n",
              "      <th>0</th>\n",
              "      <td>False</td>\n",
              "      <td>{'id': 10194, 'name': 'Toy Story Collection', ...</td>\n",
              "      <td>30000000</td>\n",
              "      <td>[{'id': 16, 'name': 'Animation'}, {'id': 35, '...</td>\n",
              "      <td>http://toystory.disney.com/toy-story</td>\n",
              "      <td>862</td>\n",
              "      <td>tt0114709</td>\n",
              "      <td>en</td>\n",
              "      <td>Toy Story</td>\n",
              "      <td>Led by Woody, Andy's toys live happily in his ...</td>\n",
              "      <td>...</td>\n",
              "      <td>1995-10-30</td>\n",
              "      <td>373554033.0</td>\n",
              "      <td>81.0</td>\n",
              "      <td>[{'iso_639_1': 'en', 'name': 'English'}]</td>\n",
              "      <td>Released</td>\n",
              "      <td>NaN</td>\n",
              "      <td>Toy Story</td>\n",
              "      <td>False</td>\n",
              "      <td>7.7</td>\n",
              "      <td>5415.0</td>\n",
              "    </tr>\n",
              "  </tbody>\n",
              "</table>\n",
              "<p>1 rows × 24 columns</p>\n",
              "</div>\n",
              "      <button class=\"colab-df-convert\" onclick=\"convertToInteractive('df-1ae6b065-f7a2-4142-882b-3a772576e696')\"\n",
              "              title=\"Convert this dataframe to an interactive table.\"\n",
              "              style=\"display:none;\">\n",
              "        \n",
              "  <svg xmlns=\"http://www.w3.org/2000/svg\" height=\"24px\"viewBox=\"0 0 24 24\"\n",
              "       width=\"24px\">\n",
              "    <path d=\"M0 0h24v24H0V0z\" fill=\"none\"/>\n",
              "    <path d=\"M18.56 5.44l.94 2.06.94-2.06 2.06-.94-2.06-.94-.94-2.06-.94 2.06-2.06.94zm-11 1L8.5 8.5l.94-2.06 2.06-.94-2.06-.94L8.5 2.5l-.94 2.06-2.06.94zm10 10l.94 2.06.94-2.06 2.06-.94-2.06-.94-.94-2.06-.94 2.06-2.06.94z\"/><path d=\"M17.41 7.96l-1.37-1.37c-.4-.4-.92-.59-1.43-.59-.52 0-1.04.2-1.43.59L10.3 9.45l-7.72 7.72c-.78.78-.78 2.05 0 2.83L4 21.41c.39.39.9.59 1.41.59.51 0 1.02-.2 1.41-.59l7.78-7.78 2.81-2.81c.8-.78.8-2.07 0-2.86zM5.41 20L4 18.59l7.72-7.72 1.47 1.35L5.41 20z\"/>\n",
              "  </svg>\n",
              "      </button>\n",
              "      \n",
              "  <style>\n",
              "    .colab-df-container {\n",
              "      display:flex;\n",
              "      flex-wrap:wrap;\n",
              "      gap: 12px;\n",
              "    }\n",
              "\n",
              "    .colab-df-convert {\n",
              "      background-color: #E8F0FE;\n",
              "      border: none;\n",
              "      border-radius: 50%;\n",
              "      cursor: pointer;\n",
              "      display: none;\n",
              "      fill: #1967D2;\n",
              "      height: 32px;\n",
              "      padding: 0 0 0 0;\n",
              "      width: 32px;\n",
              "    }\n",
              "\n",
              "    .colab-df-convert:hover {\n",
              "      background-color: #E2EBFA;\n",
              "      box-shadow: 0px 1px 2px rgba(60, 64, 67, 0.3), 0px 1px 3px 1px rgba(60, 64, 67, 0.15);\n",
              "      fill: #174EA6;\n",
              "    }\n",
              "\n",
              "    [theme=dark] .colab-df-convert {\n",
              "      background-color: #3B4455;\n",
              "      fill: #D2E3FC;\n",
              "    }\n",
              "\n",
              "    [theme=dark] .colab-df-convert:hover {\n",
              "      background-color: #434B5C;\n",
              "      box-shadow: 0px 1px 3px 1px rgba(0, 0, 0, 0.15);\n",
              "      filter: drop-shadow(0px 1px 2px rgba(0, 0, 0, 0.3));\n",
              "      fill: #FFFFFF;\n",
              "    }\n",
              "  </style>\n",
              "\n",
              "      <script>\n",
              "        const buttonEl =\n",
              "          document.querySelector('#df-1ae6b065-f7a2-4142-882b-3a772576e696 button.colab-df-convert');\n",
              "        buttonEl.style.display =\n",
              "          google.colab.kernel.accessAllowed ? 'block' : 'none';\n",
              "\n",
              "        async function convertToInteractive(key) {\n",
              "          const element = document.querySelector('#df-1ae6b065-f7a2-4142-882b-3a772576e696');\n",
              "          const dataTable =\n",
              "            await google.colab.kernel.invokeFunction('convertToInteractive',\n",
              "                                                     [key], {});\n",
              "          if (!dataTable) return;\n",
              "\n",
              "          const docLinkHtml = 'Like what you see? Visit the ' +\n",
              "            '<a target=\"_blank\" href=https://colab.research.google.com/notebooks/data_table.ipynb>data table notebook</a>'\n",
              "            + ' to learn more about interactive tables.';\n",
              "          element.innerHTML = '';\n",
              "          dataTable['output_type'] = 'display_data';\n",
              "          await google.colab.output.renderOutput(dataTable, element);\n",
              "          const docLink = document.createElement('div');\n",
              "          docLink.innerHTML = docLinkHtml;\n",
              "          element.appendChild(docLink);\n",
              "        }\n",
              "      </script>\n",
              "    </div>\n",
              "  </div>\n",
              "  "
            ]
          },
          "metadata": {},
          "execution_count": 5
        }
      ]
    },
    {
      "cell_type": "code",
      "source": [
        "movies_final = movies"
      ],
      "metadata": {
        "id": "aSVcBwkjeHT6"
      },
      "execution_count": 6,
      "outputs": []
    },
    {
      "cell_type": "code",
      "source": [
        "movies_final.info()"
      ],
      "metadata": {
        "colab": {
          "base_uri": "https://localhost:8080/"
        },
        "id": "08hgQ40khOCL",
        "outputId": "69301e68-05ca-488f-82a6-0a1548214709"
      },
      "execution_count": 7,
      "outputs": [
        {
          "output_type": "stream",
          "name": "stdout",
          "text": [
            "<class 'pandas.core.frame.DataFrame'>\n",
            "RangeIndex: 45466 entries, 0 to 45465\n",
            "Data columns (total 24 columns):\n",
            " #   Column                 Non-Null Count  Dtype  \n",
            "---  ------                 --------------  -----  \n",
            " 0   adult                  45466 non-null  object \n",
            " 1   belongs_to_collection  4494 non-null   object \n",
            " 2   budget                 45466 non-null  object \n",
            " 3   genres                 45466 non-null  object \n",
            " 4   homepage               7782 non-null   object \n",
            " 5   id                     45466 non-null  object \n",
            " 6   imdb_id                45449 non-null  object \n",
            " 7   original_language      45455 non-null  object \n",
            " 8   original_title         45466 non-null  object \n",
            " 9   overview               44512 non-null  object \n",
            " 10  popularity             45461 non-null  object \n",
            " 11  poster_path            45080 non-null  object \n",
            " 12  production_companies   45463 non-null  object \n",
            " 13  production_countries   45463 non-null  object \n",
            " 14  release_date           45379 non-null  object \n",
            " 15  revenue                45460 non-null  float64\n",
            " 16  runtime                45203 non-null  float64\n",
            " 17  spoken_languages       45460 non-null  object \n",
            " 18  status                 45379 non-null  object \n",
            " 19  tagline                20412 non-null  object \n",
            " 20  title                  45460 non-null  object \n",
            " 21  video                  45460 non-null  object \n",
            " 22  vote_average           45460 non-null  float64\n",
            " 23  vote_count             45460 non-null  float64\n",
            "dtypes: float64(4), object(20)\n",
            "memory usage: 8.3+ MB\n"
          ]
        }
      ]
    },
    {
      "cell_type": "markdown",
      "source": [
        "Valores nulos de los campos revenue, budget rellenados por el número 0"
      ],
      "metadata": {
        "id": "Zt17mcPciMBT"
      }
    },
    {
      "cell_type": "code",
      "source": [
        "movies_final['revenue'].fillna(0, inplace=True)"
      ],
      "metadata": {
        "id": "bMViBjgoiK1D"
      },
      "execution_count": 8,
      "outputs": []
    },
    {
      "cell_type": "code",
      "source": [
        "movies_final['budget'].fillna(0, inplace=True)"
      ],
      "metadata": {
        "id": "ehmfb5H7isHj"
      },
      "execution_count": 9,
      "outputs": []
    },
    {
      "cell_type": "markdown",
      "source": [
        " Valores nulos del campo release_date  deben eliminarse"
      ],
      "metadata": {
        "id": "YRm0kjwmizRa"
      }
    },
    {
      "cell_type": "code",
      "source": [
        "movies_final.dropna(subset=['release_date'], inplace=True)"
      ],
      "metadata": {
        "id": "SotKI23ni4Eb"
      },
      "execution_count": 10,
      "outputs": []
    },
    {
      "cell_type": "markdown",
      "source": [
        "Columna con el retorno de inversión, llamada return con los campos revenue y budget, dividiendo estas dos últimas revenue / budget"
      ],
      "metadata": {
        "id": "T4pZMO7Cj1QM"
      }
    },
    {
      "cell_type": "code",
      "source": [
        "# movies_final['return'] = movies_final['revenue'].astype(float) / movies_final['budget'].astype(float)\n",
        "# ValueError: could not convert string to float: '/ff9qCepilowshEtG2GYWwzt2bs4.jpg'"
      ],
      "metadata": {
        "id": "ez5NNlVDpQh9"
      },
      "execution_count": 11,
      "outputs": []
    },
    {
      "cell_type": "code",
      "source": [
        "# Mascara del valor erroneo\n",
        "# mask = movies_final[(movies_final['revenue'] == '/ff9qCepilowshEtG2GYWwzt2bs4.jpg') | (movies_final['budget'] == '/ff9qCepilowshEtG2GYWwzt2bs4.jpg')]"
      ],
      "metadata": {
        "id": "XT89OXNhm_eL"
      },
      "execution_count": 12,
      "outputs": []
    },
    {
      "cell_type": "code",
      "source": [
        "# Borrar fila\n",
        "# movies_final = movies_final.drop(mask.index)"
      ],
      "metadata": {
        "id": "5vUqBnG7ndlT"
      },
      "execution_count": 13,
      "outputs": []
    },
    {
      "cell_type": "markdown",
      "source": [
        "Se observa un error en los datos de la columna 'budget' ya que deberia ser el presupuesto de la película, en dólares. Y hay datos tipo '/ ... .jpg'"
      ],
      "metadata": {
        "id": "bCoh9UdKonws"
      }
    },
    {
      "cell_type": "markdown",
      "source": [
        "Son varias columnas entonces:"
      ],
      "metadata": {
        "id": "u6QzgLAzpmNM"
      }
    },
    {
      "cell_type": "code",
      "source": [
        "# Convertir valores numéricos a float y mantener valores de texto como string\n",
        "movies_final['budget'] = pd.to_numeric(movies_final['budget'], errors='coerce').fillna(movies_final['budget'])\n",
        "#El parámetro \"errors\" se establece en \"coerce\" para que cualquier valor que no se pueda convertir en un número se establezca en \"NaN\"\n",
        "# Luego se rellena con el valor original fillna(movies_final['budget']), para luego ser borrados"
      ],
      "metadata": {
        "id": "ziulhI7_om8s"
      },
      "execution_count": 14,
      "outputs": []
    },
    {
      "cell_type": "code",
      "source": [
        "# Errores\n",
        "error = movies_final.loc[movies_final['budget'].apply(type) == str, 'budget']\n",
        "error"
      ],
      "metadata": {
        "colab": {
          "base_uri": "https://localhost:8080/"
        },
        "id": "Q-kLmtDGk5ZE",
        "outputId": "749bda6d-8961-4fb1-c92d-833fe194c9fa"
      },
      "execution_count": 15,
      "outputs": [
        {
          "output_type": "execute_result",
          "data": {
            "text/plain": [
              "19730    /ff9qCepilowshEtG2GYWwzt2bs4.jpg\n",
              "29503    /zV8bHuSL6WXoD6FWogP9j4x80bL.jpg\n",
              "35587    /zaSf5OG7V8X8gqFvly88zDdRm46.jpg\n",
              "Name: budget, dtype: object"
            ]
          },
          "metadata": {},
          "execution_count": 15
        }
      ]
    },
    {
      "cell_type": "code",
      "source": [
        "# Borrar filas\n",
        "movies_final = movies_final.drop(error.index)"
      ],
      "metadata": {
        "id": "bT8jtigFqQDs"
      },
      "execution_count": 16,
      "outputs": []
    },
    {
      "cell_type": "code",
      "source": [
        "movies_final['budget'] == 0"
      ],
      "metadata": {
        "colab": {
          "base_uri": "https://localhost:8080/"
        },
        "id": "t3yPlPowrrXk",
        "outputId": "d5b1e088-2d6a-4bdb-c658-4ad8e9f5440e"
      },
      "execution_count": 17,
      "outputs": [
        {
          "output_type": "execute_result",
          "data": {
            "text/plain": [
              "0        False\n",
              "1        False\n",
              "2         True\n",
              "3        False\n",
              "4         True\n",
              "         ...  \n",
              "45460     True\n",
              "45462     True\n",
              "45463     True\n",
              "45464     True\n",
              "45465     True\n",
              "Name: budget, Length: 45376, dtype: bool"
            ]
          },
          "metadata": {},
          "execution_count": 17
        }
      ]
    },
    {
      "cell_type": "code",
      "source": [
        "(movies_final['budget'] < 0).any()"
      ],
      "metadata": {
        "colab": {
          "base_uri": "https://localhost:8080/"
        },
        "id": "JB7qrM-bsrR1",
        "outputId": "77a207a5-8646-41fc-9915-83817f90a53c"
      },
      "execution_count": 18,
      "outputs": [
        {
          "output_type": "execute_result",
          "data": {
            "text/plain": [
              "False"
            ]
          },
          "metadata": {},
          "execution_count": 18
        }
      ]
    },
    {
      "cell_type": "code",
      "source": [
        "# Calcular la columna \"return\" y asignar 0 cuando \"budget\" sea 0 ya que no se puede dividir entre 0\n",
        "movies_final['return'] = np.where(movies_final['budget'] == 0, 0,\n",
        "                                  movies_final['revenue'].astype(float) / movies_final['budget'].astype(float))"
      ],
      "metadata": {
        "id": "IzW8stRCkGM7"
      },
      "execution_count": 19,
      "outputs": []
    },
    {
      "cell_type": "code",
      "source": [
        "movies_final['return']"
      ],
      "metadata": {
        "colab": {
          "base_uri": "https://localhost:8080/"
        },
        "id": "Oq6BxZJIqapE",
        "outputId": "2aeac02d-95e3-42b6-981a-89b692be525d"
      },
      "execution_count": 20,
      "outputs": [
        {
          "output_type": "execute_result",
          "data": {
            "text/plain": [
              "0        12.451801\n",
              "1         4.043035\n",
              "2         0.000000\n",
              "3         5.090760\n",
              "4         0.000000\n",
              "           ...    \n",
              "45460     0.000000\n",
              "45462     0.000000\n",
              "45463     0.000000\n",
              "45464     0.000000\n",
              "45465     0.000000\n",
              "Name: return, Length: 45376, dtype: float64"
            ]
          },
          "metadata": {},
          "execution_count": 20
        }
      ]
    },
    {
      "cell_type": "markdown",
      "source": [
        "Columnas que no serán utilizadas, video, imdb_id, adult, original_title, poster_path y homepage"
      ],
      "metadata": {
        "id": "iHG-sGH2t1L8"
      }
    },
    {
      "cell_type": "code",
      "source": [
        "Cols = ['video', 'imdb_id', 'adult', 'original_title', 'poster_path', 'homepage']\n",
        "movies_final = movies_final.drop(Cols, axis=1)"
      ],
      "metadata": {
        "id": "g8j7pugdt49l"
      },
      "execution_count": 21,
      "outputs": []
    },
    {
      "cell_type": "code",
      "source": [
        "movies_final.head(1)"
      ],
      "metadata": {
        "colab": {
          "base_uri": "https://localhost:8080/",
          "height": 232
        },
        "id": "1i_nwaOmukyV",
        "outputId": "c52b684f-ef88-49b5-a48b-c1ee85db6223"
      },
      "execution_count": 22,
      "outputs": [
        {
          "output_type": "execute_result",
          "data": {
            "text/plain": [
              "                               belongs_to_collection      budget  \\\n",
              "0  {'id': 10194, 'name': 'Toy Story Collection', ...  30000000.0   \n",
              "\n",
              "                                              genres   id original_language  \\\n",
              "0  [{'id': 16, 'name': 'Animation'}, {'id': 35, '...  862                en   \n",
              "\n",
              "                                            overview popularity  \\\n",
              "0  Led by Woody, Andy's toys live happily in his ...  21.946943   \n",
              "\n",
              "                             production_companies  \\\n",
              "0  [{'name': 'Pixar Animation Studios', 'id': 3}]   \n",
              "\n",
              "                                production_countries release_date  \\\n",
              "0  [{'iso_3166_1': 'US', 'name': 'United States o...   1995-10-30   \n",
              "\n",
              "       revenue  runtime                          spoken_languages    status  \\\n",
              "0  373554033.0     81.0  [{'iso_639_1': 'en', 'name': 'English'}]  Released   \n",
              "\n",
              "  tagline      title  vote_average  vote_count     return  \n",
              "0     NaN  Toy Story           7.7      5415.0  12.451801  "
            ],
            "text/html": [
              "\n",
              "  <div id=\"df-65cd657a-a53e-4e5c-af49-4e299cfd7918\">\n",
              "    <div class=\"colab-df-container\">\n",
              "      <div>\n",
              "<style scoped>\n",
              "    .dataframe tbody tr th:only-of-type {\n",
              "        vertical-align: middle;\n",
              "    }\n",
              "\n",
              "    .dataframe tbody tr th {\n",
              "        vertical-align: top;\n",
              "    }\n",
              "\n",
              "    .dataframe thead th {\n",
              "        text-align: right;\n",
              "    }\n",
              "</style>\n",
              "<table border=\"1\" class=\"dataframe\">\n",
              "  <thead>\n",
              "    <tr style=\"text-align: right;\">\n",
              "      <th></th>\n",
              "      <th>belongs_to_collection</th>\n",
              "      <th>budget</th>\n",
              "      <th>genres</th>\n",
              "      <th>id</th>\n",
              "      <th>original_language</th>\n",
              "      <th>overview</th>\n",
              "      <th>popularity</th>\n",
              "      <th>production_companies</th>\n",
              "      <th>production_countries</th>\n",
              "      <th>release_date</th>\n",
              "      <th>revenue</th>\n",
              "      <th>runtime</th>\n",
              "      <th>spoken_languages</th>\n",
              "      <th>status</th>\n",
              "      <th>tagline</th>\n",
              "      <th>title</th>\n",
              "      <th>vote_average</th>\n",
              "      <th>vote_count</th>\n",
              "      <th>return</th>\n",
              "    </tr>\n",
              "  </thead>\n",
              "  <tbody>\n",
              "    <tr>\n",
              "      <th>0</th>\n",
              "      <td>{'id': 10194, 'name': 'Toy Story Collection', ...</td>\n",
              "      <td>30000000.0</td>\n",
              "      <td>[{'id': 16, 'name': 'Animation'}, {'id': 35, '...</td>\n",
              "      <td>862</td>\n",
              "      <td>en</td>\n",
              "      <td>Led by Woody, Andy's toys live happily in his ...</td>\n",
              "      <td>21.946943</td>\n",
              "      <td>[{'name': 'Pixar Animation Studios', 'id': 3}]</td>\n",
              "      <td>[{'iso_3166_1': 'US', 'name': 'United States o...</td>\n",
              "      <td>1995-10-30</td>\n",
              "      <td>373554033.0</td>\n",
              "      <td>81.0</td>\n",
              "      <td>[{'iso_639_1': 'en', 'name': 'English'}]</td>\n",
              "      <td>Released</td>\n",
              "      <td>NaN</td>\n",
              "      <td>Toy Story</td>\n",
              "      <td>7.7</td>\n",
              "      <td>5415.0</td>\n",
              "      <td>12.451801</td>\n",
              "    </tr>\n",
              "  </tbody>\n",
              "</table>\n",
              "</div>\n",
              "      <button class=\"colab-df-convert\" onclick=\"convertToInteractive('df-65cd657a-a53e-4e5c-af49-4e299cfd7918')\"\n",
              "              title=\"Convert this dataframe to an interactive table.\"\n",
              "              style=\"display:none;\">\n",
              "        \n",
              "  <svg xmlns=\"http://www.w3.org/2000/svg\" height=\"24px\"viewBox=\"0 0 24 24\"\n",
              "       width=\"24px\">\n",
              "    <path d=\"M0 0h24v24H0V0z\" fill=\"none\"/>\n",
              "    <path d=\"M18.56 5.44l.94 2.06.94-2.06 2.06-.94-2.06-.94-.94-2.06-.94 2.06-2.06.94zm-11 1L8.5 8.5l.94-2.06 2.06-.94-2.06-.94L8.5 2.5l-.94 2.06-2.06.94zm10 10l.94 2.06.94-2.06 2.06-.94-2.06-.94-.94-2.06-.94 2.06-2.06.94z\"/><path d=\"M17.41 7.96l-1.37-1.37c-.4-.4-.92-.59-1.43-.59-.52 0-1.04.2-1.43.59L10.3 9.45l-7.72 7.72c-.78.78-.78 2.05 0 2.83L4 21.41c.39.39.9.59 1.41.59.51 0 1.02-.2 1.41-.59l7.78-7.78 2.81-2.81c.8-.78.8-2.07 0-2.86zM5.41 20L4 18.59l7.72-7.72 1.47 1.35L5.41 20z\"/>\n",
              "  </svg>\n",
              "      </button>\n",
              "      \n",
              "  <style>\n",
              "    .colab-df-container {\n",
              "      display:flex;\n",
              "      flex-wrap:wrap;\n",
              "      gap: 12px;\n",
              "    }\n",
              "\n",
              "    .colab-df-convert {\n",
              "      background-color: #E8F0FE;\n",
              "      border: none;\n",
              "      border-radius: 50%;\n",
              "      cursor: pointer;\n",
              "      display: none;\n",
              "      fill: #1967D2;\n",
              "      height: 32px;\n",
              "      padding: 0 0 0 0;\n",
              "      width: 32px;\n",
              "    }\n",
              "\n",
              "    .colab-df-convert:hover {\n",
              "      background-color: #E2EBFA;\n",
              "      box-shadow: 0px 1px 2px rgba(60, 64, 67, 0.3), 0px 1px 3px 1px rgba(60, 64, 67, 0.15);\n",
              "      fill: #174EA6;\n",
              "    }\n",
              "\n",
              "    [theme=dark] .colab-df-convert {\n",
              "      background-color: #3B4455;\n",
              "      fill: #D2E3FC;\n",
              "    }\n",
              "\n",
              "    [theme=dark] .colab-df-convert:hover {\n",
              "      background-color: #434B5C;\n",
              "      box-shadow: 0px 1px 3px 1px rgba(0, 0, 0, 0.15);\n",
              "      filter: drop-shadow(0px 1px 2px rgba(0, 0, 0, 0.3));\n",
              "      fill: #FFFFFF;\n",
              "    }\n",
              "  </style>\n",
              "\n",
              "      <script>\n",
              "        const buttonEl =\n",
              "          document.querySelector('#df-65cd657a-a53e-4e5c-af49-4e299cfd7918 button.colab-df-convert');\n",
              "        buttonEl.style.display =\n",
              "          google.colab.kernel.accessAllowed ? 'block' : 'none';\n",
              "\n",
              "        async function convertToInteractive(key) {\n",
              "          const element = document.querySelector('#df-65cd657a-a53e-4e5c-af49-4e299cfd7918');\n",
              "          const dataTable =\n",
              "            await google.colab.kernel.invokeFunction('convertToInteractive',\n",
              "                                                     [key], {});\n",
              "          if (!dataTable) return;\n",
              "\n",
              "          const docLinkHtml = 'Like what you see? Visit the ' +\n",
              "            '<a target=\"_blank\" href=https://colab.research.google.com/notebooks/data_table.ipynb>data table notebook</a>'\n",
              "            + ' to learn more about interactive tables.';\n",
              "          element.innerHTML = '';\n",
              "          dataTable['output_type'] = 'display_data';\n",
              "          await google.colab.output.renderOutput(dataTable, element);\n",
              "          const docLink = document.createElement('div');\n",
              "          docLink.innerHTML = docLinkHtml;\n",
              "          element.appendChild(docLink);\n",
              "        }\n",
              "      </script>\n",
              "    </div>\n",
              "  </div>\n",
              "  "
            ]
          },
          "metadata": {},
          "execution_count": 22
        }
      ]
    },
    {
      "cell_type": "markdown",
      "source": [
        "Fechas, con el formato AAAA-mm-dd"
      ],
      "metadata": {
        "id": "51kB5c9QvNH7"
      }
    },
    {
      "cell_type": "code",
      "source": [
        "movies_final['release_date'] = pd.to_datetime(movies_final['release_date'])\n",
        "movies_final['release_date'] = movies_final['release_date'].dt.strftime('%Y-%m-%d')\n"
      ],
      "metadata": {
        "id": "5qn1PJwPvUv0"
      },
      "execution_count": 23,
      "outputs": []
    },
    {
      "cell_type": "code",
      "source": [
        "movies_final.info()"
      ],
      "metadata": {
        "colab": {
          "base_uri": "https://localhost:8080/"
        },
        "id": "xzH2uZIVweTl",
        "outputId": "068d6b20-5486-4136-ec0d-3b0ee6f9512e"
      },
      "execution_count": 24,
      "outputs": [
        {
          "output_type": "stream",
          "name": "stdout",
          "text": [
            "<class 'pandas.core.frame.DataFrame'>\n",
            "Int64Index: 45376 entries, 0 to 45465\n",
            "Data columns (total 19 columns):\n",
            " #   Column                 Non-Null Count  Dtype  \n",
            "---  ------                 --------------  -----  \n",
            " 0   belongs_to_collection  4488 non-null   object \n",
            " 1   budget                 45376 non-null  object \n",
            " 2   genres                 45376 non-null  object \n",
            " 3   id                     45376 non-null  object \n",
            " 4   original_language      45365 non-null  object \n",
            " 5   overview               44435 non-null  object \n",
            " 6   popularity             45376 non-null  object \n",
            " 7   production_companies   45376 non-null  object \n",
            " 8   production_countries   45376 non-null  object \n",
            " 9   release_date           45376 non-null  object \n",
            " 10  revenue                45376 non-null  float64\n",
            " 11  runtime                45130 non-null  float64\n",
            " 12  spoken_languages       45376 non-null  object \n",
            " 13  status                 45296 non-null  object \n",
            " 14  tagline                20398 non-null  object \n",
            " 15  title                  45376 non-null  object \n",
            " 16  vote_average           45376 non-null  float64\n",
            " 17  vote_count             45376 non-null  float64\n",
            " 18  return                 45376 non-null  float64\n",
            "dtypes: float64(5), object(14)\n",
            "memory usage: 6.9+ MB\n"
          ]
        }
      ]
    },
    {
      "cell_type": "markdown",
      "source": [
        " Crear la columna release_year donde se extraera el año de la fecha de estreno"
      ],
      "metadata": {
        "id": "rqsF8uhKvwt3"
      }
    },
    {
      "cell_type": "code",
      "source": [
        "movies_final['release_date'] = pd.to_datetime(movies_final['release_date'])\n",
        "movies_final['release_year'] = movies_final['release_date'].dt.year"
      ],
      "metadata": {
        "id": "KG_QgX-mv07d"
      },
      "execution_count": 25,
      "outputs": []
    },
    {
      "cell_type": "markdown",
      "source": [
        "Desanidar Datos"
      ],
      "metadata": {
        "id": "_p6jdMoRbwJi"
      }
    },
    {
      "cell_type": "markdown",
      "source": [
        "belongs_to_collection\n"
      ],
      "metadata": {
        "id": "W2MGM_b5Hm2H"
      }
    },
    {
      "cell_type": "code",
      "source": [
        "# Se extrae name de belongs_to_collection\n",
        "# movies_final[['collection_id', 'collection_name', 'collection_poster_path', 'collection_backdrop_path']] = movies_final['belongs_to_collection'].str.extract(r\"{'id': (\\d+), 'name': '(.+?)', 'poster_path': '(.+?)', 'backdrop_path': '(.+?)'}\")\n",
        "movies_final['collection_name'] = movies_final['belongs_to_collection'].str.extract(\"'name': '([^']*)'\")"
      ],
      "metadata": {
        "id": "blK8LxccENpX"
      },
      "execution_count": 26,
      "outputs": []
    },
    {
      "cell_type": "code",
      "source": [
        "movies_final.head(1)"
      ],
      "metadata": {
        "colab": {
          "base_uri": "https://localhost:8080/",
          "height": 261
        },
        "id": "3Yj3gJisEvdQ",
        "outputId": "f9502f1f-cd0d-4d89-968e-d303a27b4711"
      },
      "execution_count": 27,
      "outputs": [
        {
          "output_type": "execute_result",
          "data": {
            "text/plain": [
              "                               belongs_to_collection      budget  \\\n",
              "0  {'id': 10194, 'name': 'Toy Story Collection', ...  30000000.0   \n",
              "\n",
              "                                              genres   id original_language  \\\n",
              "0  [{'id': 16, 'name': 'Animation'}, {'id': 35, '...  862                en   \n",
              "\n",
              "                                            overview popularity  \\\n",
              "0  Led by Woody, Andy's toys live happily in his ...  21.946943   \n",
              "\n",
              "                             production_companies  \\\n",
              "0  [{'name': 'Pixar Animation Studios', 'id': 3}]   \n",
              "\n",
              "                                production_countries release_date  ...  \\\n",
              "0  [{'iso_3166_1': 'US', 'name': 'United States o...   1995-10-30  ...   \n",
              "\n",
              "   runtime                          spoken_languages    status tagline  \\\n",
              "0     81.0  [{'iso_639_1': 'en', 'name': 'English'}]  Released     NaN   \n",
              "\n",
              "       title vote_average  vote_count     return  release_year  \\\n",
              "0  Toy Story          7.7      5415.0  12.451801          1995   \n",
              "\n",
              "        collection_name  \n",
              "0  Toy Story Collection  \n",
              "\n",
              "[1 rows x 21 columns]"
            ],
            "text/html": [
              "\n",
              "  <div id=\"df-e7ac7a6b-557d-4d6b-a371-25f0691434d1\">\n",
              "    <div class=\"colab-df-container\">\n",
              "      <div>\n",
              "<style scoped>\n",
              "    .dataframe tbody tr th:only-of-type {\n",
              "        vertical-align: middle;\n",
              "    }\n",
              "\n",
              "    .dataframe tbody tr th {\n",
              "        vertical-align: top;\n",
              "    }\n",
              "\n",
              "    .dataframe thead th {\n",
              "        text-align: right;\n",
              "    }\n",
              "</style>\n",
              "<table border=\"1\" class=\"dataframe\">\n",
              "  <thead>\n",
              "    <tr style=\"text-align: right;\">\n",
              "      <th></th>\n",
              "      <th>belongs_to_collection</th>\n",
              "      <th>budget</th>\n",
              "      <th>genres</th>\n",
              "      <th>id</th>\n",
              "      <th>original_language</th>\n",
              "      <th>overview</th>\n",
              "      <th>popularity</th>\n",
              "      <th>production_companies</th>\n",
              "      <th>production_countries</th>\n",
              "      <th>release_date</th>\n",
              "      <th>...</th>\n",
              "      <th>runtime</th>\n",
              "      <th>spoken_languages</th>\n",
              "      <th>status</th>\n",
              "      <th>tagline</th>\n",
              "      <th>title</th>\n",
              "      <th>vote_average</th>\n",
              "      <th>vote_count</th>\n",
              "      <th>return</th>\n",
              "      <th>release_year</th>\n",
              "      <th>collection_name</th>\n",
              "    </tr>\n",
              "  </thead>\n",
              "  <tbody>\n",
              "    <tr>\n",
              "      <th>0</th>\n",
              "      <td>{'id': 10194, 'name': 'Toy Story Collection', ...</td>\n",
              "      <td>30000000.0</td>\n",
              "      <td>[{'id': 16, 'name': 'Animation'}, {'id': 35, '...</td>\n",
              "      <td>862</td>\n",
              "      <td>en</td>\n",
              "      <td>Led by Woody, Andy's toys live happily in his ...</td>\n",
              "      <td>21.946943</td>\n",
              "      <td>[{'name': 'Pixar Animation Studios', 'id': 3}]</td>\n",
              "      <td>[{'iso_3166_1': 'US', 'name': 'United States o...</td>\n",
              "      <td>1995-10-30</td>\n",
              "      <td>...</td>\n",
              "      <td>81.0</td>\n",
              "      <td>[{'iso_639_1': 'en', 'name': 'English'}]</td>\n",
              "      <td>Released</td>\n",
              "      <td>NaN</td>\n",
              "      <td>Toy Story</td>\n",
              "      <td>7.7</td>\n",
              "      <td>5415.0</td>\n",
              "      <td>12.451801</td>\n",
              "      <td>1995</td>\n",
              "      <td>Toy Story Collection</td>\n",
              "    </tr>\n",
              "  </tbody>\n",
              "</table>\n",
              "<p>1 rows × 21 columns</p>\n",
              "</div>\n",
              "      <button class=\"colab-df-convert\" onclick=\"convertToInteractive('df-e7ac7a6b-557d-4d6b-a371-25f0691434d1')\"\n",
              "              title=\"Convert this dataframe to an interactive table.\"\n",
              "              style=\"display:none;\">\n",
              "        \n",
              "  <svg xmlns=\"http://www.w3.org/2000/svg\" height=\"24px\"viewBox=\"0 0 24 24\"\n",
              "       width=\"24px\">\n",
              "    <path d=\"M0 0h24v24H0V0z\" fill=\"none\"/>\n",
              "    <path d=\"M18.56 5.44l.94 2.06.94-2.06 2.06-.94-2.06-.94-.94-2.06-.94 2.06-2.06.94zm-11 1L8.5 8.5l.94-2.06 2.06-.94-2.06-.94L8.5 2.5l-.94 2.06-2.06.94zm10 10l.94 2.06.94-2.06 2.06-.94-2.06-.94-.94-2.06-.94 2.06-2.06.94z\"/><path d=\"M17.41 7.96l-1.37-1.37c-.4-.4-.92-.59-1.43-.59-.52 0-1.04.2-1.43.59L10.3 9.45l-7.72 7.72c-.78.78-.78 2.05 0 2.83L4 21.41c.39.39.9.59 1.41.59.51 0 1.02-.2 1.41-.59l7.78-7.78 2.81-2.81c.8-.78.8-2.07 0-2.86zM5.41 20L4 18.59l7.72-7.72 1.47 1.35L5.41 20z\"/>\n",
              "  </svg>\n",
              "      </button>\n",
              "      \n",
              "  <style>\n",
              "    .colab-df-container {\n",
              "      display:flex;\n",
              "      flex-wrap:wrap;\n",
              "      gap: 12px;\n",
              "    }\n",
              "\n",
              "    .colab-df-convert {\n",
              "      background-color: #E8F0FE;\n",
              "      border: none;\n",
              "      border-radius: 50%;\n",
              "      cursor: pointer;\n",
              "      display: none;\n",
              "      fill: #1967D2;\n",
              "      height: 32px;\n",
              "      padding: 0 0 0 0;\n",
              "      width: 32px;\n",
              "    }\n",
              "\n",
              "    .colab-df-convert:hover {\n",
              "      background-color: #E2EBFA;\n",
              "      box-shadow: 0px 1px 2px rgba(60, 64, 67, 0.3), 0px 1px 3px 1px rgba(60, 64, 67, 0.15);\n",
              "      fill: #174EA6;\n",
              "    }\n",
              "\n",
              "    [theme=dark] .colab-df-convert {\n",
              "      background-color: #3B4455;\n",
              "      fill: #D2E3FC;\n",
              "    }\n",
              "\n",
              "    [theme=dark] .colab-df-convert:hover {\n",
              "      background-color: #434B5C;\n",
              "      box-shadow: 0px 1px 3px 1px rgba(0, 0, 0, 0.15);\n",
              "      filter: drop-shadow(0px 1px 2px rgba(0, 0, 0, 0.3));\n",
              "      fill: #FFFFFF;\n",
              "    }\n",
              "  </style>\n",
              "\n",
              "      <script>\n",
              "        const buttonEl =\n",
              "          document.querySelector('#df-e7ac7a6b-557d-4d6b-a371-25f0691434d1 button.colab-df-convert');\n",
              "        buttonEl.style.display =\n",
              "          google.colab.kernel.accessAllowed ? 'block' : 'none';\n",
              "\n",
              "        async function convertToInteractive(key) {\n",
              "          const element = document.querySelector('#df-e7ac7a6b-557d-4d6b-a371-25f0691434d1');\n",
              "          const dataTable =\n",
              "            await google.colab.kernel.invokeFunction('convertToInteractive',\n",
              "                                                     [key], {});\n",
              "          if (!dataTable) return;\n",
              "\n",
              "          const docLinkHtml = 'Like what you see? Visit the ' +\n",
              "            '<a target=\"_blank\" href=https://colab.research.google.com/notebooks/data_table.ipynb>data table notebook</a>'\n",
              "            + ' to learn more about interactive tables.';\n",
              "          element.innerHTML = '';\n",
              "          dataTable['output_type'] = 'display_data';\n",
              "          await google.colab.output.renderOutput(dataTable, element);\n",
              "          const docLink = document.createElement('div');\n",
              "          docLink.innerHTML = docLinkHtml;\n",
              "          element.appendChild(docLink);\n",
              "        }\n",
              "      </script>\n",
              "    </div>\n",
              "  </div>\n",
              "  "
            ]
          },
          "metadata": {},
          "execution_count": 27
        }
      ]
    },
    {
      "cell_type": "code",
      "source": [
        "# Eliminamos belongs_to_collection\n",
        "movies_final = movies_final.drop('belongs_to_collection', axis=1)"
      ],
      "metadata": {
        "id": "g-pXUbEmNlt1"
      },
      "execution_count": 28,
      "outputs": []
    },
    {
      "cell_type": "markdown",
      "source": [
        "genres"
      ],
      "metadata": {
        "id": "qHNE3fnNHsZw"
      }
    },
    {
      "cell_type": "code",
      "source": [
        "movies_final.loc[1, 'genres']"
      ],
      "metadata": {
        "colab": {
          "base_uri": "https://localhost:8080/",
          "height": 35
        },
        "id": "OVdiy6EfHlrg",
        "outputId": "70657221-ce9f-4c87-8a68-f3a4bfbfe42b"
      },
      "execution_count": 29,
      "outputs": [
        {
          "output_type": "execute_result",
          "data": {
            "text/plain": [
              "\"[{'id': 12, 'name': 'Adventure'}, {'id': 14, 'name': 'Fantasy'}, {'id': 10751, 'name': 'Family'}]\""
            ],
            "application/vnd.google.colaboratory.intrinsic+json": {
              "type": "string"
            }
          },
          "metadata": {},
          "execution_count": 29
        }
      ]
    },
    {
      "cell_type": "code",
      "source": [
        "import ast\n",
        "# Convertimos la cadena en una lista de diccionarios\n",
        "movies_final['genres'] = movies_final['genres'].apply(ast.literal_eval)"
      ],
      "metadata": {
        "id": "_-NMexBdKgQg"
      },
      "execution_count": 30,
      "outputs": []
    },
    {
      "cell_type": "code",
      "source": [
        "# Función para extraer los nombres de los géneros\n",
        "def extract_names(genres_list):\n",
        "    genres_names = [genre['name'] for genre in genres_list]\n",
        "    genres_names = ', '.join(genres_names)\n",
        "    return genres_names\n",
        "\n",
        "# Aplicamos la función a cada elemento de la columna 'genres'\n",
        "movies_final['genres_name'] = movies_final['genres'].apply(extract_names)"
      ],
      "metadata": {
        "id": "a0nvYZhUR478"
      },
      "execution_count": 31,
      "outputs": []
    },
    {
      "cell_type": "code",
      "source": [
        "# Separamos\n",
        "movies_final['genre'] = movies_final['genres_name'].str.split(', ')\n",
        "\n",
        "# Crearmos una nueva columna duplicada para cada genero\n",
        "movies_final = movies_final.explode('genre').reset_index(drop=True)"
      ],
      "metadata": {
        "id": "Aasz_Sm-Sd_M"
      },
      "execution_count": 32,
      "outputs": []
    },
    {
      "cell_type": "code",
      "source": [
        "movies_final.head(4)"
      ],
      "metadata": {
        "colab": {
          "base_uri": "https://localhost:8080/",
          "height": 633
        },
        "id": "_upJJhOyTlFL",
        "outputId": "3f6675f7-b595-46f4-9969-6fe9f51abcb4"
      },
      "execution_count": 33,
      "outputs": [
        {
          "output_type": "execute_result",
          "data": {
            "text/plain": [
              "       budget                                             genres    id  \\\n",
              "0  30000000.0  [{'id': 16, 'name': 'Animation'}, {'id': 35, '...   862   \n",
              "1  30000000.0  [{'id': 16, 'name': 'Animation'}, {'id': 35, '...   862   \n",
              "2  30000000.0  [{'id': 16, 'name': 'Animation'}, {'id': 35, '...   862   \n",
              "3  65000000.0  [{'id': 12, 'name': 'Adventure'}, {'id': 14, '...  8844   \n",
              "\n",
              "  original_language                                           overview  \\\n",
              "0                en  Led by Woody, Andy's toys live happily in his ...   \n",
              "1                en  Led by Woody, Andy's toys live happily in his ...   \n",
              "2                en  Led by Woody, Andy's toys live happily in his ...   \n",
              "3                en  When siblings Judy and Peter discover an encha...   \n",
              "\n",
              "  popularity                               production_companies  \\\n",
              "0  21.946943     [{'name': 'Pixar Animation Studios', 'id': 3}]   \n",
              "1  21.946943     [{'name': 'Pixar Animation Studios', 'id': 3}]   \n",
              "2  21.946943     [{'name': 'Pixar Animation Studios', 'id': 3}]   \n",
              "3  17.015539  [{'name': 'TriStar Pictures', 'id': 559}, {'na...   \n",
              "\n",
              "                                production_countries release_date  \\\n",
              "0  [{'iso_3166_1': 'US', 'name': 'United States o...   1995-10-30   \n",
              "1  [{'iso_3166_1': 'US', 'name': 'United States o...   1995-10-30   \n",
              "2  [{'iso_3166_1': 'US', 'name': 'United States o...   1995-10-30   \n",
              "3  [{'iso_3166_1': 'US', 'name': 'United States o...   1995-12-15   \n",
              "\n",
              "       revenue  ...    status                                    tagline  \\\n",
              "0  373554033.0  ...  Released                                        NaN   \n",
              "1  373554033.0  ...  Released                                        NaN   \n",
              "2  373554033.0  ...  Released                                        NaN   \n",
              "3  262797249.0  ...  Released  Roll the dice and unleash the excitement!   \n",
              "\n",
              "       title vote_average vote_count     return  release_year  \\\n",
              "0  Toy Story          7.7     5415.0  12.451801          1995   \n",
              "1  Toy Story          7.7     5415.0  12.451801          1995   \n",
              "2  Toy Story          7.7     5415.0  12.451801          1995   \n",
              "3    Jumanji          6.9     2413.0   4.043035          1995   \n",
              "\n",
              "        collection_name                 genres_name      genre  \n",
              "0  Toy Story Collection   Animation, Comedy, Family  Animation  \n",
              "1  Toy Story Collection   Animation, Comedy, Family     Comedy  \n",
              "2  Toy Story Collection   Animation, Comedy, Family     Family  \n",
              "3                   NaN  Adventure, Fantasy, Family  Adventure  \n",
              "\n",
              "[4 rows x 22 columns]"
            ],
            "text/html": [
              "\n",
              "  <div id=\"df-3be76e77-cb38-4954-b5d0-0daa834bd6bf\">\n",
              "    <div class=\"colab-df-container\">\n",
              "      <div>\n",
              "<style scoped>\n",
              "    .dataframe tbody tr th:only-of-type {\n",
              "        vertical-align: middle;\n",
              "    }\n",
              "\n",
              "    .dataframe tbody tr th {\n",
              "        vertical-align: top;\n",
              "    }\n",
              "\n",
              "    .dataframe thead th {\n",
              "        text-align: right;\n",
              "    }\n",
              "</style>\n",
              "<table border=\"1\" class=\"dataframe\">\n",
              "  <thead>\n",
              "    <tr style=\"text-align: right;\">\n",
              "      <th></th>\n",
              "      <th>budget</th>\n",
              "      <th>genres</th>\n",
              "      <th>id</th>\n",
              "      <th>original_language</th>\n",
              "      <th>overview</th>\n",
              "      <th>popularity</th>\n",
              "      <th>production_companies</th>\n",
              "      <th>production_countries</th>\n",
              "      <th>release_date</th>\n",
              "      <th>revenue</th>\n",
              "      <th>...</th>\n",
              "      <th>status</th>\n",
              "      <th>tagline</th>\n",
              "      <th>title</th>\n",
              "      <th>vote_average</th>\n",
              "      <th>vote_count</th>\n",
              "      <th>return</th>\n",
              "      <th>release_year</th>\n",
              "      <th>collection_name</th>\n",
              "      <th>genres_name</th>\n",
              "      <th>genre</th>\n",
              "    </tr>\n",
              "  </thead>\n",
              "  <tbody>\n",
              "    <tr>\n",
              "      <th>0</th>\n",
              "      <td>30000000.0</td>\n",
              "      <td>[{'id': 16, 'name': 'Animation'}, {'id': 35, '...</td>\n",
              "      <td>862</td>\n",
              "      <td>en</td>\n",
              "      <td>Led by Woody, Andy's toys live happily in his ...</td>\n",
              "      <td>21.946943</td>\n",
              "      <td>[{'name': 'Pixar Animation Studios', 'id': 3}]</td>\n",
              "      <td>[{'iso_3166_1': 'US', 'name': 'United States o...</td>\n",
              "      <td>1995-10-30</td>\n",
              "      <td>373554033.0</td>\n",
              "      <td>...</td>\n",
              "      <td>Released</td>\n",
              "      <td>NaN</td>\n",
              "      <td>Toy Story</td>\n",
              "      <td>7.7</td>\n",
              "      <td>5415.0</td>\n",
              "      <td>12.451801</td>\n",
              "      <td>1995</td>\n",
              "      <td>Toy Story Collection</td>\n",
              "      <td>Animation, Comedy, Family</td>\n",
              "      <td>Animation</td>\n",
              "    </tr>\n",
              "    <tr>\n",
              "      <th>1</th>\n",
              "      <td>30000000.0</td>\n",
              "      <td>[{'id': 16, 'name': 'Animation'}, {'id': 35, '...</td>\n",
              "      <td>862</td>\n",
              "      <td>en</td>\n",
              "      <td>Led by Woody, Andy's toys live happily in his ...</td>\n",
              "      <td>21.946943</td>\n",
              "      <td>[{'name': 'Pixar Animation Studios', 'id': 3}]</td>\n",
              "      <td>[{'iso_3166_1': 'US', 'name': 'United States o...</td>\n",
              "      <td>1995-10-30</td>\n",
              "      <td>373554033.0</td>\n",
              "      <td>...</td>\n",
              "      <td>Released</td>\n",
              "      <td>NaN</td>\n",
              "      <td>Toy Story</td>\n",
              "      <td>7.7</td>\n",
              "      <td>5415.0</td>\n",
              "      <td>12.451801</td>\n",
              "      <td>1995</td>\n",
              "      <td>Toy Story Collection</td>\n",
              "      <td>Animation, Comedy, Family</td>\n",
              "      <td>Comedy</td>\n",
              "    </tr>\n",
              "    <tr>\n",
              "      <th>2</th>\n",
              "      <td>30000000.0</td>\n",
              "      <td>[{'id': 16, 'name': 'Animation'}, {'id': 35, '...</td>\n",
              "      <td>862</td>\n",
              "      <td>en</td>\n",
              "      <td>Led by Woody, Andy's toys live happily in his ...</td>\n",
              "      <td>21.946943</td>\n",
              "      <td>[{'name': 'Pixar Animation Studios', 'id': 3}]</td>\n",
              "      <td>[{'iso_3166_1': 'US', 'name': 'United States o...</td>\n",
              "      <td>1995-10-30</td>\n",
              "      <td>373554033.0</td>\n",
              "      <td>...</td>\n",
              "      <td>Released</td>\n",
              "      <td>NaN</td>\n",
              "      <td>Toy Story</td>\n",
              "      <td>7.7</td>\n",
              "      <td>5415.0</td>\n",
              "      <td>12.451801</td>\n",
              "      <td>1995</td>\n",
              "      <td>Toy Story Collection</td>\n",
              "      <td>Animation, Comedy, Family</td>\n",
              "      <td>Family</td>\n",
              "    </tr>\n",
              "    <tr>\n",
              "      <th>3</th>\n",
              "      <td>65000000.0</td>\n",
              "      <td>[{'id': 12, 'name': 'Adventure'}, {'id': 14, '...</td>\n",
              "      <td>8844</td>\n",
              "      <td>en</td>\n",
              "      <td>When siblings Judy and Peter discover an encha...</td>\n",
              "      <td>17.015539</td>\n",
              "      <td>[{'name': 'TriStar Pictures', 'id': 559}, {'na...</td>\n",
              "      <td>[{'iso_3166_1': 'US', 'name': 'United States o...</td>\n",
              "      <td>1995-12-15</td>\n",
              "      <td>262797249.0</td>\n",
              "      <td>...</td>\n",
              "      <td>Released</td>\n",
              "      <td>Roll the dice and unleash the excitement!</td>\n",
              "      <td>Jumanji</td>\n",
              "      <td>6.9</td>\n",
              "      <td>2413.0</td>\n",
              "      <td>4.043035</td>\n",
              "      <td>1995</td>\n",
              "      <td>NaN</td>\n",
              "      <td>Adventure, Fantasy, Family</td>\n",
              "      <td>Adventure</td>\n",
              "    </tr>\n",
              "  </tbody>\n",
              "</table>\n",
              "<p>4 rows × 22 columns</p>\n",
              "</div>\n",
              "      <button class=\"colab-df-convert\" onclick=\"convertToInteractive('df-3be76e77-cb38-4954-b5d0-0daa834bd6bf')\"\n",
              "              title=\"Convert this dataframe to an interactive table.\"\n",
              "              style=\"display:none;\">\n",
              "        \n",
              "  <svg xmlns=\"http://www.w3.org/2000/svg\" height=\"24px\"viewBox=\"0 0 24 24\"\n",
              "       width=\"24px\">\n",
              "    <path d=\"M0 0h24v24H0V0z\" fill=\"none\"/>\n",
              "    <path d=\"M18.56 5.44l.94 2.06.94-2.06 2.06-.94-2.06-.94-.94-2.06-.94 2.06-2.06.94zm-11 1L8.5 8.5l.94-2.06 2.06-.94-2.06-.94L8.5 2.5l-.94 2.06-2.06.94zm10 10l.94 2.06.94-2.06 2.06-.94-2.06-.94-.94-2.06-.94 2.06-2.06.94z\"/><path d=\"M17.41 7.96l-1.37-1.37c-.4-.4-.92-.59-1.43-.59-.52 0-1.04.2-1.43.59L10.3 9.45l-7.72 7.72c-.78.78-.78 2.05 0 2.83L4 21.41c.39.39.9.59 1.41.59.51 0 1.02-.2 1.41-.59l7.78-7.78 2.81-2.81c.8-.78.8-2.07 0-2.86zM5.41 20L4 18.59l7.72-7.72 1.47 1.35L5.41 20z\"/>\n",
              "  </svg>\n",
              "      </button>\n",
              "      \n",
              "  <style>\n",
              "    .colab-df-container {\n",
              "      display:flex;\n",
              "      flex-wrap:wrap;\n",
              "      gap: 12px;\n",
              "    }\n",
              "\n",
              "    .colab-df-convert {\n",
              "      background-color: #E8F0FE;\n",
              "      border: none;\n",
              "      border-radius: 50%;\n",
              "      cursor: pointer;\n",
              "      display: none;\n",
              "      fill: #1967D2;\n",
              "      height: 32px;\n",
              "      padding: 0 0 0 0;\n",
              "      width: 32px;\n",
              "    }\n",
              "\n",
              "    .colab-df-convert:hover {\n",
              "      background-color: #E2EBFA;\n",
              "      box-shadow: 0px 1px 2px rgba(60, 64, 67, 0.3), 0px 1px 3px 1px rgba(60, 64, 67, 0.15);\n",
              "      fill: #174EA6;\n",
              "    }\n",
              "\n",
              "    [theme=dark] .colab-df-convert {\n",
              "      background-color: #3B4455;\n",
              "      fill: #D2E3FC;\n",
              "    }\n",
              "\n",
              "    [theme=dark] .colab-df-convert:hover {\n",
              "      background-color: #434B5C;\n",
              "      box-shadow: 0px 1px 3px 1px rgba(0, 0, 0, 0.15);\n",
              "      filter: drop-shadow(0px 1px 2px rgba(0, 0, 0, 0.3));\n",
              "      fill: #FFFFFF;\n",
              "    }\n",
              "  </style>\n",
              "\n",
              "      <script>\n",
              "        const buttonEl =\n",
              "          document.querySelector('#df-3be76e77-cb38-4954-b5d0-0daa834bd6bf button.colab-df-convert');\n",
              "        buttonEl.style.display =\n",
              "          google.colab.kernel.accessAllowed ? 'block' : 'none';\n",
              "\n",
              "        async function convertToInteractive(key) {\n",
              "          const element = document.querySelector('#df-3be76e77-cb38-4954-b5d0-0daa834bd6bf');\n",
              "          const dataTable =\n",
              "            await google.colab.kernel.invokeFunction('convertToInteractive',\n",
              "                                                     [key], {});\n",
              "          if (!dataTable) return;\n",
              "\n",
              "          const docLinkHtml = 'Like what you see? Visit the ' +\n",
              "            '<a target=\"_blank\" href=https://colab.research.google.com/notebooks/data_table.ipynb>data table notebook</a>'\n",
              "            + ' to learn more about interactive tables.';\n",
              "          element.innerHTML = '';\n",
              "          dataTable['output_type'] = 'display_data';\n",
              "          await google.colab.output.renderOutput(dataTable, element);\n",
              "          const docLink = document.createElement('div');\n",
              "          docLink.innerHTML = docLinkHtml;\n",
              "          element.appendChild(docLink);\n",
              "        }\n",
              "      </script>\n",
              "    </div>\n",
              "  </div>\n",
              "  "
            ]
          },
          "metadata": {},
          "execution_count": 33
        }
      ]
    },
    {
      "cell_type": "code",
      "source": [
        "# Eliminamos genres y genres_name\n",
        "movies_final = movies_final.drop(['genres', 'genres_name'], axis=1)"
      ],
      "metadata": {
        "id": "kluh9MAyUzzD"
      },
      "execution_count": 34,
      "outputs": []
    },
    {
      "cell_type": "markdown",
      "source": [
        "production_companies"
      ],
      "metadata": {
        "id": "6ykgNriPVJHk"
      }
    },
    {
      "cell_type": "code",
      "source": [
        "movies_final.loc[3, 'production_companies']"
      ],
      "metadata": {
        "colab": {
          "base_uri": "https://localhost:8080/",
          "height": 35
        },
        "id": "8-j2BGC4Uzwq",
        "outputId": "d47682ed-38c9-4f79-e5c3-fd7d772095bb"
      },
      "execution_count": 35,
      "outputs": [
        {
          "output_type": "execute_result",
          "data": {
            "text/plain": [
              "\"[{'name': 'TriStar Pictures', 'id': 559}, {'name': 'Teitler Film', 'id': 2550}, {'name': 'Interscope Communications', 'id': 10201}]\""
            ],
            "application/vnd.google.colaboratory.intrinsic+json": {
              "type": "string"
            }
          },
          "metadata": {},
          "execution_count": 35
        }
      ]
    },
    {
      "cell_type": "code",
      "source": [
        "# Convertimos la cadena en una lista de diccionarios\n",
        "movies_final['production_companies'] = movies_final['production_companies'].apply(ast.literal_eval)"
      ],
      "metadata": {
        "id": "QjQ7EHEJXKEr"
      },
      "execution_count": 36,
      "outputs": []
    },
    {
      "cell_type": "code",
      "source": [
        "# Aplicamos la función extract_names a cada elemento de la columna 'production_companies'\n",
        "movies_final['production_companies_names'] = movies_final['production_companies'].apply(extract_names)"
      ],
      "metadata": {
        "id": "fOGSOwHoVIrL"
      },
      "execution_count": 37,
      "outputs": []
    },
    {
      "cell_type": "code",
      "source": [
        "movies_final.loc[3, 'production_companies_names']"
      ],
      "metadata": {
        "colab": {
          "base_uri": "https://localhost:8080/",
          "height": 35
        },
        "id": "Or4mabaNXeeD",
        "outputId": "d501e4d6-6c2f-42be-eda8-157eb20284a7"
      },
      "execution_count": 38,
      "outputs": [
        {
          "output_type": "execute_result",
          "data": {
            "text/plain": [
              "'TriStar Pictures, Teitler Film, Interscope Communications'"
            ],
            "application/vnd.google.colaboratory.intrinsic+json": {
              "type": "string"
            }
          },
          "metadata": {},
          "execution_count": 38
        }
      ]
    },
    {
      "cell_type": "code",
      "source": [
        "# Separamos\n",
        "movies_final['production_companie'] = movies_final['production_companies_names'].str.split(', ')\n",
        "\n",
        "# Crearmos una nueva columna duplicada para cada Compañia\n",
        "movies_final = movies_final.explode('production_companie').reset_index(drop=True)"
      ],
      "metadata": {
        "id": "PKNs1jTuYOi6"
      },
      "execution_count": 39,
      "outputs": []
    },
    {
      "cell_type": "code",
      "source": [
        "print(movies_final.loc[3, 'production_companie'],', ', movies_final.loc[4, 'production_companie'],', ', movies_final.loc[5, 'production_companie'])"
      ],
      "metadata": {
        "colab": {
          "base_uri": "https://localhost:8080/"
        },
        "id": "T8CsHEOYYhfa",
        "outputId": "63d4d48b-34e7-4d27-b1a8-2fc7b7577448"
      },
      "execution_count": 40,
      "outputs": [
        {
          "output_type": "stream",
          "name": "stdout",
          "text": [
            "TriStar Pictures ,  Teitler Film ,  Interscope Communications\n"
          ]
        }
      ]
    },
    {
      "cell_type": "code",
      "source": [
        "# Eliminamos production_companies y production_companies_names\n",
        "movies_final = movies_final.drop(['production_companies', 'production_companies_names'], axis=1)"
      ],
      "metadata": {
        "id": "18e_OuzDY7pa"
      },
      "execution_count": 41,
      "outputs": []
    },
    {
      "cell_type": "markdown",
      "source": [
        "production_countries"
      ],
      "metadata": {
        "id": "JhFZR0c-ZKj6"
      }
    },
    {
      "cell_type": "code",
      "source": [
        "movies_final.loc[4, 'production_countries']"
      ],
      "metadata": {
        "colab": {
          "base_uri": "https://localhost:8080/",
          "height": 35
        },
        "id": "b8homcFRZMub",
        "outputId": "cff74b6b-d42f-425f-ab81-1020514410ac"
      },
      "execution_count": 42,
      "outputs": [
        {
          "output_type": "execute_result",
          "data": {
            "text/plain": [
              "\"[{'iso_3166_1': 'US', 'name': 'United States of America'}]\""
            ],
            "application/vnd.google.colaboratory.intrinsic+json": {
              "type": "string"
            }
          },
          "metadata": {},
          "execution_count": 42
        }
      ]
    },
    {
      "cell_type": "code",
      "source": [
        "# Convertimos la cadena en una lista de diccionarios\n",
        "movies_final['production_countries'] = movies_final['production_countries'].apply(ast.literal_eval)"
      ],
      "metadata": {
        "id": "x3S4eIV6ZmUT"
      },
      "execution_count": 43,
      "outputs": []
    },
    {
      "cell_type": "code",
      "source": [
        "# Aplicamos la función extract_names a cada elemento de la columna 'production_countries'\n",
        "movies_final['production_country'] = movies_final['production_countries'].apply(extract_names)"
      ],
      "metadata": {
        "id": "2yKwetVSb2Rr"
      },
      "execution_count": 44,
      "outputs": []
    },
    {
      "cell_type": "code",
      "source": [
        "# Eliminamos 'production_countries'\n",
        "movies_final = movies_final.drop('production_countries', axis=1)"
      ],
      "metadata": {
        "id": "fM9-k3LocEVi"
      },
      "execution_count": 45,
      "outputs": []
    },
    {
      "cell_type": "markdown",
      "source": [
        "spoken_languages"
      ],
      "metadata": {
        "id": "0BroCp-ucg_6"
      }
    },
    {
      "cell_type": "code",
      "source": [
        "movies_final.loc[3, 'spoken_languages']"
      ],
      "metadata": {
        "colab": {
          "base_uri": "https://localhost:8080/",
          "height": 35
        },
        "id": "xvKck_4YcjFL",
        "outputId": "6f33858d-4137-4a8e-b35f-e173e7a28f5e"
      },
      "execution_count": 46,
      "outputs": [
        {
          "output_type": "execute_result",
          "data": {
            "text/plain": [
              "\"[{'iso_639_1': 'en', 'name': 'English'}, {'iso_639_1': 'fr', 'name': 'Français'}]\""
            ],
            "application/vnd.google.colaboratory.intrinsic+json": {
              "type": "string"
            }
          },
          "metadata": {},
          "execution_count": 46
        }
      ]
    },
    {
      "cell_type": "code",
      "source": [
        "# Convertimos la cadena en una lista de diccionarios\n",
        "movies_final['spoken_languages'] = movies_final['spoken_languages'].apply(ast.literal_eval)"
      ],
      "metadata": {
        "id": "N-1s2VV1civy"
      },
      "execution_count": 47,
      "outputs": []
    },
    {
      "cell_type": "code",
      "source": [
        "# Aplicamos la función extract_names a cada elemento de la columna 'spoken_languages'\n",
        "movies_final['spoken_languages_names'] = movies_final['spoken_languages'].apply(extract_names)"
      ],
      "metadata": {
        "id": "uMGf9_YMdAjK"
      },
      "execution_count": 48,
      "outputs": []
    },
    {
      "cell_type": "code",
      "source": [
        "movies_final.loc[3, 'spoken_languages_names']"
      ],
      "metadata": {
        "colab": {
          "base_uri": "https://localhost:8080/",
          "height": 35
        },
        "id": "kxQhjKoOdVcC",
        "outputId": "0a58741b-3f4a-4ba9-eca6-797ce871b6a5"
      },
      "execution_count": 49,
      "outputs": [
        {
          "output_type": "execute_result",
          "data": {
            "text/plain": [
              "'English, Français'"
            ],
            "application/vnd.google.colaboratory.intrinsic+json": {
              "type": "string"
            }
          },
          "metadata": {},
          "execution_count": 49
        }
      ]
    },
    {
      "cell_type": "code",
      "source": [
        "# Separamos\n",
        "movies_final['spoken_language'] = movies_final['spoken_languages_names'].str.split(', ')\n",
        "\n",
        "# Crearmos una nueva columna duplicada para cada Compañia\n",
        "movies_final = movies_final.explode('spoken_language').reset_index(drop=True)"
      ],
      "metadata": {
        "id": "84jypPukdO5k"
      },
      "execution_count": 50,
      "outputs": []
    },
    {
      "cell_type": "code",
      "source": [
        "print(movies_final.loc[3, 'spoken_language'], ', ', movies_final.loc[4, 'spoken_language'])"
      ],
      "metadata": {
        "colab": {
          "base_uri": "https://localhost:8080/"
        },
        "id": "kWD_N_5jdroy",
        "outputId": "07157f63-75d2-4f7c-a976-8763c8767813"
      },
      "execution_count": 51,
      "outputs": [
        {
          "output_type": "stream",
          "name": "stdout",
          "text": [
            "English ,  Français\n"
          ]
        }
      ]
    },
    {
      "cell_type": "code",
      "source": [
        "# Eliminamos spoken_languages y spoken_languages_names\n",
        "movies_final = movies_final.drop(['spoken_languages', 'spoken_languages_names'], axis=1)"
      ],
      "metadata": {
        "id": "K0QqhFkZeLdM"
      },
      "execution_count": 52,
      "outputs": []
    },
    {
      "cell_type": "code",
      "source": [
        "movies_final.head(1)"
      ],
      "metadata": {
        "colab": {
          "base_uri": "https://localhost:8080/",
          "height": 232
        },
        "id": "d0vrXi33Uztz",
        "outputId": "ae0b692b-8315-459d-80d8-931ef1e783b7"
      },
      "execution_count": 53,
      "outputs": [
        {
          "output_type": "execute_result",
          "data": {
            "text/plain": [
              "       budget   id original_language  \\\n",
              "0  30000000.0  862                en   \n",
              "\n",
              "                                            overview popularity release_date  \\\n",
              "0  Led by Woody, Andy's toys live happily in his ...  21.946943   1995-10-30   \n",
              "\n",
              "       revenue  runtime    status tagline      title  vote_average  \\\n",
              "0  373554033.0     81.0  Released     NaN  Toy Story           7.7   \n",
              "\n",
              "   vote_count     return  release_year       collection_name      genre  \\\n",
              "0      5415.0  12.451801          1995  Toy Story Collection  Animation   \n",
              "\n",
              "       production_companie        production_country spoken_language  \n",
              "0  Pixar Animation Studios  United States of America         English  "
            ],
            "text/html": [
              "\n",
              "  <div id=\"df-89be9f82-1036-494a-b068-18add79eb37f\">\n",
              "    <div class=\"colab-df-container\">\n",
              "      <div>\n",
              "<style scoped>\n",
              "    .dataframe tbody tr th:only-of-type {\n",
              "        vertical-align: middle;\n",
              "    }\n",
              "\n",
              "    .dataframe tbody tr th {\n",
              "        vertical-align: top;\n",
              "    }\n",
              "\n",
              "    .dataframe thead th {\n",
              "        text-align: right;\n",
              "    }\n",
              "</style>\n",
              "<table border=\"1\" class=\"dataframe\">\n",
              "  <thead>\n",
              "    <tr style=\"text-align: right;\">\n",
              "      <th></th>\n",
              "      <th>budget</th>\n",
              "      <th>id</th>\n",
              "      <th>original_language</th>\n",
              "      <th>overview</th>\n",
              "      <th>popularity</th>\n",
              "      <th>release_date</th>\n",
              "      <th>revenue</th>\n",
              "      <th>runtime</th>\n",
              "      <th>status</th>\n",
              "      <th>tagline</th>\n",
              "      <th>title</th>\n",
              "      <th>vote_average</th>\n",
              "      <th>vote_count</th>\n",
              "      <th>return</th>\n",
              "      <th>release_year</th>\n",
              "      <th>collection_name</th>\n",
              "      <th>genre</th>\n",
              "      <th>production_companie</th>\n",
              "      <th>production_country</th>\n",
              "      <th>spoken_language</th>\n",
              "    </tr>\n",
              "  </thead>\n",
              "  <tbody>\n",
              "    <tr>\n",
              "      <th>0</th>\n",
              "      <td>30000000.0</td>\n",
              "      <td>862</td>\n",
              "      <td>en</td>\n",
              "      <td>Led by Woody, Andy's toys live happily in his ...</td>\n",
              "      <td>21.946943</td>\n",
              "      <td>1995-10-30</td>\n",
              "      <td>373554033.0</td>\n",
              "      <td>81.0</td>\n",
              "      <td>Released</td>\n",
              "      <td>NaN</td>\n",
              "      <td>Toy Story</td>\n",
              "      <td>7.7</td>\n",
              "      <td>5415.0</td>\n",
              "      <td>12.451801</td>\n",
              "      <td>1995</td>\n",
              "      <td>Toy Story Collection</td>\n",
              "      <td>Animation</td>\n",
              "      <td>Pixar Animation Studios</td>\n",
              "      <td>United States of America</td>\n",
              "      <td>English</td>\n",
              "    </tr>\n",
              "  </tbody>\n",
              "</table>\n",
              "</div>\n",
              "      <button class=\"colab-df-convert\" onclick=\"convertToInteractive('df-89be9f82-1036-494a-b068-18add79eb37f')\"\n",
              "              title=\"Convert this dataframe to an interactive table.\"\n",
              "              style=\"display:none;\">\n",
              "        \n",
              "  <svg xmlns=\"http://www.w3.org/2000/svg\" height=\"24px\"viewBox=\"0 0 24 24\"\n",
              "       width=\"24px\">\n",
              "    <path d=\"M0 0h24v24H0V0z\" fill=\"none\"/>\n",
              "    <path d=\"M18.56 5.44l.94 2.06.94-2.06 2.06-.94-2.06-.94-.94-2.06-.94 2.06-2.06.94zm-11 1L8.5 8.5l.94-2.06 2.06-.94-2.06-.94L8.5 2.5l-.94 2.06-2.06.94zm10 10l.94 2.06.94-2.06 2.06-.94-2.06-.94-.94-2.06-.94 2.06-2.06.94z\"/><path d=\"M17.41 7.96l-1.37-1.37c-.4-.4-.92-.59-1.43-.59-.52 0-1.04.2-1.43.59L10.3 9.45l-7.72 7.72c-.78.78-.78 2.05 0 2.83L4 21.41c.39.39.9.59 1.41.59.51 0 1.02-.2 1.41-.59l7.78-7.78 2.81-2.81c.8-.78.8-2.07 0-2.86zM5.41 20L4 18.59l7.72-7.72 1.47 1.35L5.41 20z\"/>\n",
              "  </svg>\n",
              "      </button>\n",
              "      \n",
              "  <style>\n",
              "    .colab-df-container {\n",
              "      display:flex;\n",
              "      flex-wrap:wrap;\n",
              "      gap: 12px;\n",
              "    }\n",
              "\n",
              "    .colab-df-convert {\n",
              "      background-color: #E8F0FE;\n",
              "      border: none;\n",
              "      border-radius: 50%;\n",
              "      cursor: pointer;\n",
              "      display: none;\n",
              "      fill: #1967D2;\n",
              "      height: 32px;\n",
              "      padding: 0 0 0 0;\n",
              "      width: 32px;\n",
              "    }\n",
              "\n",
              "    .colab-df-convert:hover {\n",
              "      background-color: #E2EBFA;\n",
              "      box-shadow: 0px 1px 2px rgba(60, 64, 67, 0.3), 0px 1px 3px 1px rgba(60, 64, 67, 0.15);\n",
              "      fill: #174EA6;\n",
              "    }\n",
              "\n",
              "    [theme=dark] .colab-df-convert {\n",
              "      background-color: #3B4455;\n",
              "      fill: #D2E3FC;\n",
              "    }\n",
              "\n",
              "    [theme=dark] .colab-df-convert:hover {\n",
              "      background-color: #434B5C;\n",
              "      box-shadow: 0px 1px 3px 1px rgba(0, 0, 0, 0.15);\n",
              "      filter: drop-shadow(0px 1px 2px rgba(0, 0, 0, 0.3));\n",
              "      fill: #FFFFFF;\n",
              "    }\n",
              "  </style>\n",
              "\n",
              "      <script>\n",
              "        const buttonEl =\n",
              "          document.querySelector('#df-89be9f82-1036-494a-b068-18add79eb37f button.colab-df-convert');\n",
              "        buttonEl.style.display =\n",
              "          google.colab.kernel.accessAllowed ? 'block' : 'none';\n",
              "\n",
              "        async function convertToInteractive(key) {\n",
              "          const element = document.querySelector('#df-89be9f82-1036-494a-b068-18add79eb37f');\n",
              "          const dataTable =\n",
              "            await google.colab.kernel.invokeFunction('convertToInteractive',\n",
              "                                                     [key], {});\n",
              "          if (!dataTable) return;\n",
              "\n",
              "          const docLinkHtml = 'Like what you see? Visit the ' +\n",
              "            '<a target=\"_blank\" href=https://colab.research.google.com/notebooks/data_table.ipynb>data table notebook</a>'\n",
              "            + ' to learn more about interactive tables.';\n",
              "          element.innerHTML = '';\n",
              "          dataTable['output_type'] = 'display_data';\n",
              "          await google.colab.output.renderOutput(dataTable, element);\n",
              "          const docLink = document.createElement('div');\n",
              "          docLink.innerHTML = docLinkHtml;\n",
              "          element.appendChild(docLink);\n",
              "        }\n",
              "      </script>\n",
              "    </div>\n",
              "  </div>\n",
              "  "
            ]
          },
          "metadata": {},
          "execution_count": 53
        }
      ]
    },
    {
      "cell_type": "code",
      "source": [
        "movies_final.columns"
      ],
      "metadata": {
        "id": "4FScM92dKgOB",
        "colab": {
          "base_uri": "https://localhost:8080/"
        },
        "outputId": "eb602b91-50e7-41ba-e3f5-53ba2a2f6984"
      },
      "execution_count": 54,
      "outputs": [
        {
          "output_type": "execute_result",
          "data": {
            "text/plain": [
              "Index(['budget', 'id', 'original_language', 'overview', 'popularity',\n",
              "       'release_date', 'revenue', 'runtime', 'status', 'tagline', 'title',\n",
              "       'vote_average', 'vote_count', 'return', 'release_year',\n",
              "       'collection_name', 'genre', 'production_companie', 'production_country',\n",
              "       'spoken_language'],\n",
              "      dtype='object')"
            ]
          },
          "metadata": {},
          "execution_count": 54
        }
      ]
    },
    {
      "cell_type": "code",
      "source": [
        "movies_final = movies_final.drop_duplicates()"
      ],
      "metadata": {
        "id": "O3wv3yUigROr"
      },
      "execution_count": 55,
      "outputs": []
    },
    {
      "cell_type": "code",
      "source": [
        "movies_final.info()"
      ],
      "metadata": {
        "colab": {
          "base_uri": "https://localhost:8080/"
        },
        "id": "BA_JEQRROJEO",
        "outputId": "2f72aed6-2f78-490a-ee06-da87a465b0e5"
      },
      "execution_count": 56,
      "outputs": [
        {
          "output_type": "stream",
          "name": "stdout",
          "text": [
            "<class 'pandas.core.frame.DataFrame'>\n",
            "Int64Index: 250494 entries, 0 to 250759\n",
            "Data columns (total 20 columns):\n",
            " #   Column               Non-Null Count   Dtype         \n",
            "---  ------               --------------   -----         \n",
            " 0   budget               250494 non-null  object        \n",
            " 1   id                   250494 non-null  object        \n",
            " 2   original_language    250454 non-null  object        \n",
            " 3   overview             248487 non-null  object        \n",
            " 4   popularity           250494 non-null  object        \n",
            " 5   release_date         250494 non-null  datetime64[ns]\n",
            " 6   revenue              250494 non-null  float64       \n",
            " 7   runtime              250038 non-null  float64       \n",
            " 8   status               250359 non-null  object        \n",
            " 9   tagline              143910 non-null  object        \n",
            " 10  title                250494 non-null  object        \n",
            " 11  vote_average         250494 non-null  float64       \n",
            " 12  vote_count           250494 non-null  float64       \n",
            " 13  return               250494 non-null  float64       \n",
            " 14  release_year         250494 non-null  int64         \n",
            " 15  collection_name      34327 non-null   object        \n",
            " 16  genre                250494 non-null  object        \n",
            " 17  production_companie  250494 non-null  object        \n",
            " 18  production_country   250494 non-null  object        \n",
            " 19  spoken_language      250494 non-null  object        \n",
            "dtypes: datetime64[ns](1), float64(5), int64(1), object(13)\n",
            "memory usage: 40.1+ MB\n"
          ]
        }
      ]
    },
    {
      "cell_type": "markdown",
      "source": [
        "Buscar Datos erroneos / Nulos / Outliers\n"
      ],
      "metadata": {
        "id": "llbSLC5yOJwz"
      }
    },
    {
      "cell_type": "code",
      "source": [
        "movies_final['genre'].unique()"
      ],
      "metadata": {
        "colab": {
          "base_uri": "https://localhost:8080/"
        },
        "id": "847f6XZIC8kL",
        "outputId": "802814c1-32c9-4d2a-a241-a84c030e0d16"
      },
      "execution_count": 57,
      "outputs": [
        {
          "output_type": "execute_result",
          "data": {
            "text/plain": [
              "array(['Animation', 'Comedy', 'Family', 'Adventure', 'Fantasy', 'Romance',\n",
              "       'Drama', 'Action', 'Crime', 'Thriller', 'Horror', 'History',\n",
              "       'Science Fiction', 'Mystery', 'War', 'Foreign', '', 'Music',\n",
              "       'Documentary', 'Western', 'TV Movie'], dtype=object)"
            ]
          },
          "metadata": {},
          "execution_count": 57
        }
      ]
    },
    {
      "cell_type": "code",
      "source": [
        "import matplotlib.pyplot as plt\n",
        "import seaborn as sns"
      ],
      "metadata": {
        "id": "_aF3FWQqOJX0"
      },
      "execution_count": 58,
      "outputs": []
    },
    {
      "cell_type": "code",
      "source": [
        "sns.catplot(x='genre', y=\"runtime\", kind='box', data=movies_final)\n"
      ],
      "metadata": {
        "colab": {
          "base_uri": "https://localhost:8080/",
          "height": 524
        },
        "id": "708Mwu5Zghrq",
        "outputId": "d33dda28-09e2-4c2d-b29b-bd9f89cf12e7"
      },
      "execution_count": 59,
      "outputs": [
        {
          "output_type": "execute_result",
          "data": {
            "text/plain": [
              "<seaborn.axisgrid.FacetGrid at 0x7f0c9548b9a0>"
            ]
          },
          "metadata": {},
          "execution_count": 59
        },
        {
          "output_type": "display_data",
          "data": {
            "text/plain": [
              "<Figure size 500x500 with 1 Axes>"
            ],
            "image/png": "[encoded data removed]"
          },
          "metadata": {}
        }
      ]
    },
    {
      "cell_type": "code",
      "source": [],
      "metadata": {
        "id": "-pCA7RAMEiuQ"
      },
      "execution_count": 59,
      "outputs": []
    },
    {
      "cell_type": "markdown",
      "source": [
        "Credits"
      ],
      "metadata": {
        "id": "MndW7g-qzLE9"
      }
    },
    {
      "cell_type": "code",
      "source": [
        "credits = pd.read_csv(\"/content/drive/MyDrive/Modelo de Recomendaciones (Movies)/credits.csv\")"
      ],
      "metadata": {
        "id": "Q1LxtARoSHZK"
      },
      "execution_count": 60,
      "outputs": []
    },
    {
      "cell_type": "code",
      "source": [
        "credits.head(1)"
      ],
      "metadata": {
        "colab": {
          "base_uri": "https://localhost:8080/",
          "height": 81
        },
        "id": "SfwjXUP0SHW5",
        "outputId": "6e80b467-7256-4cd7-d19a-f0b612de86d2"
      },
      "execution_count": 61,
      "outputs": [
        {
          "output_type": "execute_result",
          "data": {
            "text/plain": [
              "                                                cast  \\\n",
              "0  [{'cast_id': 14, 'character': 'Woody (voice)',...   \n",
              "\n",
              "                                                crew   id  \n",
              "0  [{'credit_id': '52fe4284c3a36847f8024f49', 'de...  862  "
            ],
            "text/html": [
              "\n",
              "  <div id=\"df-5b6d1837-87a7-4c40-9731-1ea3147c26ab\">\n",
              "    <div class=\"colab-df-container\">\n",
              "      <div>\n",
              "<style scoped>\n",
              "    .dataframe tbody tr th:only-of-type {\n",
              "        vertical-align: middle;\n",
              "    }\n",
              "\n",
              "    .dataframe tbody tr th {\n",
              "        vertical-align: top;\n",
              "    }\n",
              "\n",
              "    .dataframe thead th {\n",
              "        text-align: right;\n",
              "    }\n",
              "</style>\n",
              "<table border=\"1\" class=\"dataframe\">\n",
              "  <thead>\n",
              "    <tr style=\"text-align: right;\">\n",
              "      <th></th>\n",
              "      <th>cast</th>\n",
              "      <th>crew</th>\n",
              "      <th>id</th>\n",
              "    </tr>\n",
              "  </thead>\n",
              "  <tbody>\n",
              "    <tr>\n",
              "      <th>0</th>\n",
              "      <td>[{'cast_id': 14, 'character': 'Woody (voice)',...</td>\n",
              "      <td>[{'credit_id': '52fe4284c3a36847f8024f49', 'de...</td>\n",
              "      <td>862</td>\n",
              "    </tr>\n",
              "  </tbody>\n",
              "</table>\n",
              "</div>\n",
              "      <button class=\"colab-df-convert\" onclick=\"convertToInteractive('df-5b6d1837-87a7-4c40-9731-1ea3147c26ab')\"\n",
              "              title=\"Convert this dataframe to an interactive table.\"\n",
              "              style=\"display:none;\">\n",
              "        \n",
              "  <svg xmlns=\"http://www.w3.org/2000/svg\" height=\"24px\"viewBox=\"0 0 24 24\"\n",
              "       width=\"24px\">\n",
              "    <path d=\"M0 0h24v24H0V0z\" fill=\"none\"/>\n",
              "    <path d=\"M18.56 5.44l.94 2.06.94-2.06 2.06-.94-2.06-.94-.94-2.06-.94 2.06-2.06.94zm-11 1L8.5 8.5l.94-2.06 2.06-.94-2.06-.94L8.5 2.5l-.94 2.06-2.06.94zm10 10l.94 2.06.94-2.06 2.06-.94-2.06-.94-.94-2.06-.94 2.06-2.06.94z\"/><path d=\"M17.41 7.96l-1.37-1.37c-.4-.4-.92-.59-1.43-.59-.52 0-1.04.2-1.43.59L10.3 9.45l-7.72 7.72c-.78.78-.78 2.05 0 2.83L4 21.41c.39.39.9.59 1.41.59.51 0 1.02-.2 1.41-.59l7.78-7.78 2.81-2.81c.8-.78.8-2.07 0-2.86zM5.41 20L4 18.59l7.72-7.72 1.47 1.35L5.41 20z\"/>\n",
              "  </svg>\n",
              "      </button>\n",
              "      \n",
              "  <style>\n",
              "    .colab-df-container {\n",
              "      display:flex;\n",
              "      flex-wrap:wrap;\n",
              "      gap: 12px;\n",
              "    }\n",
              "\n",
              "    .colab-df-convert {\n",
              "      background-color: #E8F0FE;\n",
              "      border: none;\n",
              "      border-radius: 50%;\n",
              "      cursor: pointer;\n",
              "      display: none;\n",
              "      fill: #1967D2;\n",
              "      height: 32px;\n",
              "      padding: 0 0 0 0;\n",
              "      width: 32px;\n",
              "    }\n",
              "\n",
              "    .colab-df-convert:hover {\n",
              "      background-color: #E2EBFA;\n",
              "      box-shadow: 0px 1px 2px rgba(60, 64, 67, 0.3), 0px 1px 3px 1px rgba(60, 64, 67, 0.15);\n",
              "      fill: #174EA6;\n",
              "    }\n",
              "\n",
              "    [theme=dark] .colab-df-convert {\n",
              "      background-color: #3B4455;\n",
              "      fill: #D2E3FC;\n",
              "    }\n",
              "\n",
              "    [theme=dark] .colab-df-convert:hover {\n",
              "      background-color: #434B5C;\n",
              "      box-shadow: 0px 1px 3px 1px rgba(0, 0, 0, 0.15);\n",
              "      filter: drop-shadow(0px 1px 2px rgba(0, 0, 0, 0.3));\n",
              "      fill: #FFFFFF;\n",
              "    }\n",
              "  </style>\n",
              "\n",
              "      <script>\n",
              "        const buttonEl =\n",
              "          document.querySelector('#df-5b6d1837-87a7-4c40-9731-1ea3147c26ab button.colab-df-convert');\n",
              "        buttonEl.style.display =\n",
              "          google.colab.kernel.accessAllowed ? 'block' : 'none';\n",
              "\n",
              "        async function convertToInteractive(key) {\n",
              "          const element = document.querySelector('#df-5b6d1837-87a7-4c40-9731-1ea3147c26ab');\n",
              "          const dataTable =\n",
              "            await google.colab.kernel.invokeFunction('convertToInteractive',\n",
              "                                                     [key], {});\n",
              "          if (!dataTable) return;\n",
              "\n",
              "          const docLinkHtml = 'Like what you see? Visit the ' +\n",
              "            '<a target=\"_blank\" href=https://colab.research.google.com/notebooks/data_table.ipynb>data table notebook</a>'\n",
              "            + ' to learn more about interactive tables.';\n",
              "          element.innerHTML = '';\n",
              "          dataTable['output_type'] = 'display_data';\n",
              "          await google.colab.output.renderOutput(dataTable, element);\n",
              "          const docLink = document.createElement('div');\n",
              "          docLink.innerHTML = docLinkHtml;\n",
              "          element.appendChild(docLink);\n",
              "        }\n",
              "      </script>\n",
              "    </div>\n",
              "  </div>\n",
              "  "
            ]
          },
          "metadata": {},
          "execution_count": 61
        }
      ]
    },
    {
      "cell_type": "code",
      "source": [],
      "metadata": {
        "id": "1CLbDDVzSHUq"
      },
      "execution_count": 61,
      "outputs": []
    },
    {
      "cell_type": "markdown",
      "source": [
        "## Consultas"
      ],
      "metadata": {
        "id": "SgdTxgiOGXPp"
      }
    },
    {
      "cell_type": "markdown",
      "source": [
        "def cantidad_filmaciones_mes( Mes ): Se ingresa un mes en idioma Español. Debe devolver la cantidad de películas que fueron estrenadas en el mes consultado en la totalidad del dataset.\n",
        "Ejemplo de retorno: X cantidad de películas fueron estrenadas en el mes de X"
      ],
      "metadata": {
        "id": "sErpLathGaHB"
      }
    },
    {
      "cell_type": "code",
      "source": [
        "def cantidad_filmaciones_mes( Mes ):\n",
        "  mes = Mes.lower()\n",
        "  meses = {'enero': 1, 'febrero': 2, 'marzo': 3, 'abril': 4, 'mayo': 5, 'junio': 6, 'julio': 7, 'agosto': 8, 'septiembre': 9, 'octubre': 10, 'noviembre': 11, 'diciembre': 12}\n",
        "  mes_nro = meses.get(mes)\n",
        "  estrenos = movies_final[movies_final['release_date'].dt.month == mes_nro]\n",
        "  cantidad = len(estrenos['id'].unique())\n",
        "  return f'{cantidad} cantidad de películas fueron estrenadas en el mes de {mes.capitalize()}'\n"
      ],
      "metadata": {
        "id": "TCJRbYyWSHSc"
      },
      "execution_count": 73,
      "outputs": []
    },
    {
      "cell_type": "code",
      "source": [
        "cantidad_filmaciones_mes('MAYO')"
      ],
      "metadata": {
        "colab": {
          "base_uri": "https://localhost:8080/",
          "height": 35
        },
        "id": "966qJtfLIyrw",
        "outputId": "5a2d1b31-5a94-4224-f242-36bb5f345cd2"
      },
      "execution_count": 74,
      "outputs": [
        {
          "output_type": "execute_result",
          "data": {
            "text/plain": [
              "'3337 cantidad de películas fueron estrenadas en el mes de Mayo'"
            ],
            "application/vnd.google.colaboratory.intrinsic+json": {
              "type": "string"
            }
          },
          "metadata": {},
          "execution_count": 74
        }
      ]
    },
    {
      "cell_type": "markdown",
      "source": [
        "def cantidad_filmaciones_dia( Dia ): Se ingresa un día en idioma Español. Debe devolver la cantidad de películas que fueron estrenadas en día consultado en la totalidad del dataset.\n",
        "                    Ejemplo de retorno: X cantidad de películas fueron estrenadas en los días X"
      ],
      "metadata": {
        "id": "G1upJz2OGbLp"
      }
    },
    {
      "cell_type": "code",
      "source": [
        "def cantidad_filmaciones_dia( Dia ):\n",
        "  dia = Dia.lower()\n",
        "  dias = {'lunes': 'Monday', 'martes': 'Tuesday', 'miercoles': 'Wednesday', 'jueves': 'Thursday', 'viernes': 'Friday', 'sabado': 'Saturday', 'domingo': 'Sunday'}\n",
        "  dia_en = dias.get(dia)\n",
        "  estrenos = movies_final[movies_final['release_date'].dt.day_name() == dia_en]\n",
        "  cantidad = len(estrenos['id'].unique())\n",
        "  return f'{cantidad} cantidad de películas fueron estrenadas en los días {dia.capitalize()}'"
      ],
      "metadata": {
        "id": "LTRT63DkSHQB"
      },
      "execution_count": 81,
      "outputs": []
    },
    {
      "cell_type": "code",
      "source": [
        "cantidad_filmaciones_dia('JUEVES')"
      ],
      "metadata": {
        "colab": {
          "base_uri": "https://localhost:8080/",
          "height": 35
        },
        "id": "m46p-Nh1nvnQ",
        "outputId": "cd9aeee3-8e02-4959-d35d-69fd08ab9d29"
      },
      "execution_count": 83,
      "outputs": [
        {
          "output_type": "execute_result",
          "data": {
            "text/plain": [
              "'7520 cantidad de películas fueron estrenadas en los días Jueves'"
            ],
            "application/vnd.google.colaboratory.intrinsic+json": {
              "type": "string"
            }
          },
          "metadata": {},
          "execution_count": 83
        }
      ]
    },
    {
      "cell_type": "markdown",
      "source": [
        "def score_titulo( titulo_de_la_filmación ): Se ingresa el título de una filmación esperando como respuesta el título, el año de estreno y el score.\n",
        "                    Ejemplo de retorno: La película X fue estrenada en el año X con un score/popularidad de X"
      ],
      "metadata": {
        "id": "i-rX-K1rGjWx"
      }
    },
    {
      "cell_type": "code",
      "source": [
        "def score_titulo( titulo_de_la_filmación ):\n",
        ""
      ],
      "metadata": {
        "id": "pRyqJi9XSHN6"
      },
      "execution_count": 65,
      "outputs": []
    },
    {
      "cell_type": "markdown",
      "source": [
        "def votos_titulo( titulo_de_la_filmación ): Se ingresa el título de una filmación esperando como respuesta el título, la cantidad de votos y el valor promedio de las votaciones. La misma variable deberá de contar con al menos 2000 valoraciones, caso contrario, debemos contar con un mensaje avisando que no cumple esta condición y que por ende, no se devuelve ningun valor.\n",
        "                    Ejemplo de retorno: La película X fue estrenada en el año X. La misma cuenta con un total de X valoraciones, con un promedio de X"
      ],
      "metadata": {
        "id": "h6xr4tH8GmfJ"
      }
    },
    {
      "cell_type": "code",
      "source": [],
      "metadata": {
        "id": "-yfvdkgfSHLZ"
      },
      "execution_count": 65,
      "outputs": []
    },
    {
      "cell_type": "markdown",
      "source": [
        "def get_actor( nombre_actor ): Se ingresa el nombre de un actor que se encuentre dentro de un dataset debiendo devolver el éxito del mismo medido a través del retorno. Además, la cantidad de películas que en las que ha participado y el promedio de retorno. La definición no deberá considerar directores.\n",
        "                    Ejemplo de retorno: El actor X ha participado de X cantidad de filmaciones, el mismo ha conseguido un retorno de X con un promedio de X por filmación"
      ],
      "metadata": {
        "id": "_O3ne-7UGpqi"
      }
    },
    {
      "cell_type": "code",
      "source": [],
      "metadata": {
        "id": "Oy76oZaRSHJK"
      },
      "execution_count": 65,
      "outputs": []
    },
    {
      "cell_type": "markdown",
      "source": [
        "def get_director( nombre_director ): Se ingresa el nombre de un director que se encuentre dentro de un dataset debiendo devolver el éxito del mismo medido a través del retorno. Además, deberá devolver el nombre de cada película con la fecha de lanzamiento, retorno individual, costo y ganancia de la misma"
      ],
      "metadata": {
        "id": "DM-c_HjlGsZB"
      }
    },
    {
      "cell_type": "code",
      "source": [],
      "metadata": {
        "id": "rgSM83ACSHGy"
      },
      "execution_count": 65,
      "outputs": []
    },
    {
      "cell_type": "code",
      "source": [],
      "metadata": {
        "id": "MkS71i5USHEi"
      },
      "execution_count": 65,
      "outputs": []
    },
    {
      "cell_type": "code",
      "source": [],
      "metadata": {
        "id": "B8BuhJWqSHCa"
      },
      "execution_count": 65,
      "outputs": []
    },
    {
      "cell_type": "code",
      "source": [],
      "metadata": {
        "id": "PJ3MBj8PSHAC"
      },
      "execution_count": 65,
      "outputs": []
    },
    {
      "cell_type": "code",
      "source": [],
      "metadata": {
        "id": "baks0tF5SG9i"
      },
      "execution_count": 65,
      "outputs": []
    },
    {
      "cell_type": "code",
      "source": [],
      "metadata": {
        "id": "yraWvHMWSG7K"
      },
      "execution_count": 65,
      "outputs": []
    }
  ]
}